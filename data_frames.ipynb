{
 "cells": [
  {
   "cell_type": "markdown",
   "id": "cd4c37c5",
   "metadata": {},
   "source": [
    "# Data frames\n",
    "\n",
    "\n",
    "\n",
    "## About this exercise\n",
    "\n",
    "This exercise is an edited version of a lab from [the Berkeley data science\n",
    "course](https://github.com/data-8/data8assets/tree/gh-pages/materials/su17/lab/lab03)\n",
    "with thanks.  If you make a new version of this original, please note that this\n",
    "exercise has a [CC-BY-NC\n",
    "license](http://creativecommons.org/licenses/by-nc/4.0/); remember to give\n",
    "attribution to the original authors from the repository above."
   ]
  },
  {
   "cell_type": "markdown",
   "id": "d3929672",
   "metadata": {},
   "source": [
    "## Getting started\n",
    "\n",
    "This assignment is about *data frames*, which let us work with multiple arrays\n",
    "of data about the same things.\n",
    "\n",
    "First, set up the tests and imports by running the cell below."
   ]
  },
  {
   "cell_type": "code",
   "execution_count": null,
   "id": "f1e5b0c4",
   "metadata": {},
   "outputs": [],
   "source": [
    "# Run this cell.\n",
    "\n",
    "# The Numpy array library.\n",
    "import numpy as np\n",
    "# The Pandas data science library.\n",
    "import pandas as pd\n",
    "\n",
    "# These lines load the tests.\n",
    "from client.api.notebook import Notebook\n",
    "ok = Notebook('data_frames.ok')"
   ]
  },
  {
   "cell_type": "markdown",
   "id": "f4b91446",
   "metadata": {},
   "source": [
    "## Introduction\n",
    "\n",
    "For a collection of things in the world, an array is useful for describing\n",
    "a single attribute of each thing. For example, among the collection of US\n",
    "States, an array could describe the land area of each. Tables extend this idea\n",
    "by describing multiple attributes for each element of a collection.\n",
    "\n",
    "In most data science applications, we have data about many entities, but we\n",
    "also have several kinds of data about each entity.\n",
    "\n",
    "For example, in the cell below we have two arrays. The first one contains the\n",
    "world population in each year (as\n",
    "[estimated](http://www.census.gov/population/international/data/worldpop/table_population.php)\n",
    "by the US Census Bureau), and the second contains the years themselves (in\n",
    "order, so the first elements in the population and the years arrays\n",
    "correspond)."
   ]
  },
  {
   "cell_type": "code",
   "execution_count": null,
   "id": "d605fb8a",
   "metadata": {},
   "outputs": [],
   "source": [
    "# Run this cell.\n",
    "# Read the data table into memory as a data frame.\n",
    "population_df = pd.read_csv(\"world_population.csv\")\n",
    "# Convert data frame column to an array.\n",
    "population_amounts = np.array(population_df[\"Population\"])\n",
    "years = np.arange(1950, 2015+1)\n",
    "print(\"Population column:\", population_amounts)\n",
    "print(\"Years column:\", years)"
   ]
  },
  {
   "cell_type": "markdown",
   "id": "2b520ce7",
   "metadata": {},
   "source": [
    "Suppose we want to answer this question:\n",
    "\n",
    "> When did world population cross 6 billion?\n",
    "\n",
    "You could technically answer this question just from staring at the arrays, but\n",
    "it's a bit convoluted, since you would have to count the position where the\n",
    "population first crossed 6 billion, then find the corresponding element in the\n",
    "years array. In cases like these, it might be easier to put the data into\n",
    "a *Data Frame*, a 2-dimensional type of dataset.\n",
    "\n",
    "The cell below:\n",
    "\n",
    "- creates an empty table called `population` using the expression\n",
    "  `pd.DataFrame()`,\n",
    "- adds the \"Population\" column by *indexing* into the new data frame, and\n",
    "- adds the \"Year\" column in the same way, and\n",
    "- evaluates `population` so that we can see the table.\n",
    "\n",
    "The strings `\"Year\"` and `\"Population\"` are column labels that we have chosen.\n",
    "Their names `population_amounts` and `years` were assigned above to two arrays\n",
    "of the same length."
   ]
  },
  {
   "cell_type": "code",
   "execution_count": null,
   "id": "032b953a",
   "metadata": {},
   "outputs": [],
   "source": [
    "# Make an empty data frame\n",
    "population = pd.DataFrame()\n",
    "# Put in the \"Population\" column.\n",
    "population[\"Population\"] = population_amounts\n",
    "# Put in the \"Years\" column.\n",
    "population[\"Years\"] = years\n",
    "# Evaluate the result (to show it).\n",
    "population"
   ]
  },
  {
   "cell_type": "markdown",
   "id": "62f91df0",
   "metadata": {},
   "source": [
    "As when we *assigned values* into arrays by *indexing*, so we can assign\n",
    "columns into the data frame by indexing.\n",
    "\n",
    "Remember we can set values in an array like this:"
   ]
  },
  {
   "cell_type": "code",
   "execution_count": null,
   "id": "41b65b87",
   "metadata": {},
   "outputs": [],
   "source": [
    "a = np.zeros(4)\n",
    "a[2] = 99\n",
    "a"
   ]
  },
  {
   "cell_type": "markdown",
   "id": "c6a684b5",
   "metadata": {},
   "source": [
    "The line `a[2] = 99` says \"get the location of the element of `a` at offset 2,\n",
    "and put the value 99 into this location.\"\n",
    "\n",
    "Consider the line:"
   ]
  },
  {
   "cell_type": "code",
   "execution_count": null,
   "id": "6a3f9048",
   "metadata": {},
   "outputs": [],
   "source": [
    "population[\"Population\"] = population_amounts"
   ]
  },
  {
   "cell_type": "markdown",
   "id": "b4a3bbc5",
   "metadata": {},
   "source": [
    "Read this as \"Create a new column called 'Population' in the `population` data\n",
    "frame, get its location, and put the values of `population_amounts` into that\n",
    "location.\""
   ]
  },
  {
   "cell_type": "markdown",
   "id": "dfe3427e",
   "metadata": {},
   "source": [
    "Now the data are all together in a single table! It's much easier to parse this\n",
    "data--if you need to know what the population was in 1959, for example, you can\n",
    "tell from a single glance. We'll revisit this table later."
   ]
  },
  {
   "cell_type": "markdown",
   "id": "dc11d5f2",
   "metadata": {},
   "source": [
    "## Creating Tables\n",
    "\n",
    "**Question 2.1.** In the cell below, we've created 2 arrays. Using the steps\n",
    "above, make a data frame `top_10_movies`, and insert two columns called\n",
    "\"Rating\" and \"Name\", which hold `top_10_movie_ratings` and `top_10_movie_names`\n",
    "respectively."
   ]
  },
  {
   "cell_type": "code",
   "execution_count": null,
   "id": "7335e704",
   "metadata": {},
   "outputs": [],
   "source": [
    "top_10_movie_ratings = np.array(\n",
    "     [9.2, 9.2, 9., 8.9, 8.9, 8.9, 8.9, 8.9, 8.9, 8.8])\n",
    "top_10_movie_names = np.array([\n",
    "        'The Shawshank Redemption (1994)',\n",
    "        'The Godfather (1972)',\n",
    "        'The Godfather: Part II (1974)',\n",
    "        'Pulp Fiction (1994)',\n",
    "        \"Schindler's List (1993)\",\n",
    "        'The Lord of the Rings: The Return of the King (2003)',\n",
    "        '12 Angry Men (1957)',\n",
    "        'The Dark Knight (2008)',\n",
    "        'Il buono, il brutto, il cattivo (1966)',\n",
    "        'The Lord of the Rings: The Fellowship of the Ring (2001)'])\n",
    "\n",
    "top_10_movies = ...\n",
    "# We've put this next line here so your table will get printed out when you\n",
    "# run this cell.\n",
    "top_10_movies"
   ]
  },
  {
   "cell_type": "code",
   "execution_count": null,
   "id": "c99b4792",
   "metadata": {},
   "outputs": [],
   "source": [
    "_ = ok.grade('q2_1')"
   ]
  },
  {
   "cell_type": "markdown",
   "id": "8a9f69d1",
   "metadata": {},
   "source": [
    "### Loading a data frame from a file"
   ]
  },
  {
   "cell_type": "markdown",
   "id": "99d618d7",
   "metadata": {},
   "source": [
    "In most cases, we aren't going to go through the trouble of typing in all the\n",
    "data manually. Instead, we can use Pandas functions.\n",
    "\n",
    "`pd.read_csv` needs one argument, a path to a data file (a string) and\n",
    "returns a data frame.  There are many formats for data files, but CSV\n",
    "(\"comma-separated values\") is the most common."
   ]
  },
  {
   "cell_type": "markdown",
   "id": "06a4b2ae",
   "metadata": {},
   "source": [
    "**Question 2.2.** The file `imdb.csv` contains a table of information about the 250 highest-rated movies on IMDb.  Load it as a table called `imdb`."
   ]
  },
  {
   "cell_type": "code",
   "execution_count": null,
   "id": "ca4032e4",
   "metadata": {},
   "outputs": [],
   "source": [
    "imdb = ...\n",
    "imdb"
   ]
  },
  {
   "cell_type": "code",
   "execution_count": null,
   "id": "4bd23bd1",
   "metadata": {},
   "outputs": [],
   "source": [
    "_ = ok.grade('q2_2')"
   ]
  },
  {
   "cell_type": "markdown",
   "id": "3eefbb88",
   "metadata": {},
   "source": [
    "Notice the row of ellipses \"...\" in the center of the data frame output.  This\n",
    "data frame is big enough that only a few of its rows are displayed, but the\n",
    "others are still there.  As you see at the end of the data frame display, there\n",
    "are 250 movies in total.\n",
    "\n",
    "Where did `imdb.csv` come from? Take a look at [the assignment's folder](./). You should see a file called `imdb.csv`.\n",
    "\n",
    "Open up the `imdb.csv` file in that folder and look at the format. What do you notice? The `.csv` filename ending says that this file is in the [CSV (comma-separated value) format](http://edoceo.com/utilitas/csv-file-format)."
   ]
  },
  {
   "cell_type": "markdown",
   "id": "689be692",
   "metadata": {},
   "source": [
    "## Analyzing datasets"
   ]
  },
  {
   "cell_type": "markdown",
   "id": "cc971d1b",
   "metadata": {},
   "source": [
    "With just a few data frame methods, we can answer some interesting questions about the IMDb dataset.\n",
    "\n",
    "If we want just the ratings of the movies, we can get a Series that contains the data in that column.  A Series is Pandas way of storing the column from a data frame"
   ]
  },
  {
   "cell_type": "code",
   "execution_count": null,
   "id": "1873ee0e",
   "metadata": {},
   "outputs": [],
   "source": [
    "rating = imdb[\"Rating\"]\n",
    "rating"
   ]
  },
  {
   "cell_type": "code",
   "execution_count": null,
   "id": "678e51d6",
   "metadata": {},
   "outputs": [],
   "source": [
    "type(rating)"
   ]
  },
  {
   "cell_type": "markdown",
   "id": "78982b5c",
   "metadata": {},
   "source": [
    "You can make the series into an array like this:"
   ]
  },
  {
   "cell_type": "code",
   "execution_count": null,
   "id": "6b9df261",
   "metadata": {
    "lines_to_next_cell": 2
   },
   "outputs": [],
   "source": [
    "rating_array = np.array(rating)\n",
    "rating_array"
   ]
  },
  {
   "cell_type": "markdown",
   "id": "f003f943",
   "metadata": {},
   "source": [
    "The value of that expression is an array, exactly the same kind of thing you'd get if you typed in `np.array([8.4, 8.3, 8.3, ...])`."
   ]
  },
  {
   "cell_type": "markdown",
   "id": "357bcab5",
   "metadata": {},
   "source": [
    "**Question 4.1.** Find the rating of the highest-rated movie in the dataset.\n",
    "\n",
    "*Hint:* You can sort an array with the Numpy function `np.sort`."
   ]
  },
  {
   "cell_type": "code",
   "execution_count": null,
   "id": "96221b34",
   "metadata": {},
   "outputs": [],
   "source": [
    "highest_rating = ...\n",
    "highest_rating"
   ]
  },
  {
   "cell_type": "code",
   "execution_count": null,
   "id": "2c0e6a42",
   "metadata": {},
   "outputs": [],
   "source": [
    "_ = ok.grade('q4_1')"
   ]
  },
  {
   "cell_type": "markdown",
   "id": "48e14edf",
   "metadata": {},
   "source": [
    "That's not very useful, though.  You'd probably want to know the *name* of the\n",
    "movie whose rating you found!  To do that, we can sort the entire data frame by\n",
    "rating, which ensures that the ratings and titles will stay together."
   ]
  },
  {
   "cell_type": "code",
   "execution_count": null,
   "id": "dfe3946b",
   "metadata": {},
   "outputs": [],
   "source": [
    "imdb.sort_values(\"Rating\")"
   ]
  },
  {
   "cell_type": "markdown",
   "id": "0f4569f9",
   "metadata": {},
   "source": [
    "Well, that actually doesn't help much, either -- we sorted the movies from lowest -> highest ratings.  To look at the highest-rated movies, sort in reverse order:"
   ]
  },
  {
   "cell_type": "code",
   "execution_count": null,
   "id": "20ba9f90",
   "metadata": {},
   "outputs": [],
   "source": [
    "imdb.sort_values(\"Rating\", ascending=False)"
   ]
  },
  {
   "cell_type": "markdown",
   "id": "53d0c64b",
   "metadata": {},
   "source": [
    "(The `ascending=False` bit is called an *optional argument*. It has a default\n",
    "value of `True`, so when you explicitly tell the function `ascending=False`,\n",
    "then the function will sort in descending order.)\n",
    "\n",
    "So there are actually 2 highest-rated movies in the dataset: *The Shawshank Redemption* and *The Godfather*.\n",
    "\n",
    "Some details about `sort_values`:\n",
    "\n",
    "1. The first argument to `sort_values` is the name of a column to sort by.\n",
    "2. If the column has strings in it, `sort` will sort alphabetically; if the\n",
    "   column has numbers, it will sort numerically.\n",
    "3. The value of `imdb.sort_values(\"Rating\")` is a *copy of `imdb`*; the `imdb`\n",
    "   table doesn't get modified. For example, if we called\n",
    "   `imdb.sort_values(\"Rating\")`, then evaluating `imdb` by itself would still\n",
    "   return the unsorted table.\n",
    "4. Rows always stick together when a table is sorted.  It wouldn't make sense\n",
    "   to sort just one column and leave the other columns alone.  For example, in\n",
    "   this case, if we somehow sorted just the \"Rating\" column, the movies would\n",
    "   all end up with the wrong ratings.\n",
    "\n",
    "**Question 4.2.** Create a version of `imdb` that's sorted chronologically,\n",
    "with the earliest movies first.  Call it `imdb_by_year`."
   ]
  },
  {
   "cell_type": "code",
   "execution_count": null,
   "id": "90e5267f",
   "metadata": {},
   "outputs": [],
   "source": [
    "imdb_by_year = ...\n",
    "imdb_by_year"
   ]
  },
  {
   "cell_type": "code",
   "execution_count": null,
   "id": "d2ff05d0",
   "metadata": {},
   "outputs": [],
   "source": [
    "_ = ok.grade('q4_2')"
   ]
  },
  {
   "cell_type": "markdown",
   "id": "036877d8",
   "metadata": {},
   "source": [
    "**Question 4.3.** What's the title of the earliest movie in the dataset?  You\n",
    "could just look this up from the output of the previous cell.  Instead, write\n",
    "Python code to find out.\n",
    "\n",
    "*Hint:* Starting with `imdb_by_year`, extract the Title column to get a series, then convert to an array and use indexing to get the first item."
   ]
  },
  {
   "cell_type": "code",
   "execution_count": null,
   "id": "0abed4e0",
   "metadata": {},
   "outputs": [],
   "source": [
    "earliest_movie_title = ...\n",
    "earliest_movie_title"
   ]
  },
  {
   "cell_type": "code",
   "execution_count": null,
   "id": "983bc4be",
   "metadata": {},
   "outputs": [],
   "source": [
    "_ = ok.grade('q4_3')"
   ]
  },
  {
   "cell_type": "markdown",
   "id": "6f8aafe0",
   "metadata": {},
   "source": [
    "## Finding pieces of a dataset"
   ]
  },
  {
   "cell_type": "markdown",
   "id": "cd87e5a5",
   "metadata": {},
   "source": [
    "Suppose you're interested in movies from the 1940s.  Sorting the data frame by\n",
    "year doesn't help you, because the 1940s are in the middle of the dataset.\n",
    "\n",
    "Instead, we use *Boolean indexing* to select the rows we want.\n",
    "\n",
    "The trick is this:\n",
    "\n",
    "1. First make a Boolean array or Series that has one (True or False) value for\n",
    "   each row in the array. The array has True in the position of rows we want to\n",
    "   select and False for rows we want to drop.\n",
    "2. Make a new data frame by *indexing* into the original data frame with the\n",
    "   Boolean array or Series.\n",
    "\n",
    "First let's create the Boolean Series.  The array should have True for rows where the \"Decade\" value is equal to 1940, and False otherwise."
   ]
  },
  {
   "cell_type": "code",
   "execution_count": null,
   "id": "b5212350",
   "metadata": {},
   "outputs": [],
   "source": [
    "# Get the Decade column as a Series\n",
    "decade = imdb[\"Decade\"]\n",
    "# Compare the values to 1940 to make a Boolean Series\n",
    "is_forties = decade == 1940\n",
    "is_forties"
   ]
  },
  {
   "cell_type": "markdown",
   "id": "84719790",
   "metadata": {},
   "source": [
    "Next select rows from the `imdb` data frame by indexing with this Boolean series:"
   ]
  },
  {
   "cell_type": "code",
   "execution_count": null,
   "id": "341dce0a",
   "metadata": {
    "lines_to_next_cell": 2
   },
   "outputs": [],
   "source": [
    "forties = imdb[is_forties]\n",
    "forties"
   ]
  },
  {
   "cell_type": "markdown",
   "id": "7b9e9cda",
   "metadata": {},
   "source": [
    "**Question 5.1.** Compute the average rating of movies from the 1940s.\n",
    "\n",
    "*Hint:* The function `np.mean` computes the average of an array of numbers."
   ]
  },
  {
   "cell_type": "code",
   "execution_count": null,
   "id": "ef9efe71",
   "metadata": {},
   "outputs": [],
   "source": [
    "average_rating_in_forties = ...\n",
    "average_rating_in_forties"
   ]
  },
  {
   "cell_type": "code",
   "execution_count": null,
   "id": "5769fd92",
   "metadata": {},
   "outputs": [],
   "source": [
    "_ = ok.grade('q5_1')"
   ]
  },
  {
   "cell_type": "markdown",
   "id": "63aea1a5",
   "metadata": {},
   "source": [
    "**Question 5.2.** Create a data frame called `ninety_nine` containing the movies that came out in the year 1999."
   ]
  },
  {
   "cell_type": "code",
   "execution_count": null,
   "id": "99bac526",
   "metadata": {},
   "outputs": [],
   "source": [
    "ninety_nine = ...\n",
    "ninety_nine"
   ]
  },
  {
   "cell_type": "code",
   "execution_count": null,
   "id": "191ad0aa",
   "metadata": {},
   "outputs": [],
   "source": [
    "_ = ok.grade('q5_2')"
   ]
  },
  {
   "cell_type": "markdown",
   "id": "fa7332fe",
   "metadata": {},
   "source": [
    "So far we've only been finding where a column is *exactly* equal to a certain value.  We can create our Boolean Series or array using any of the usual conditional operators, such as `!=, >, >=, <, <=`."
   ]
  },
  {
   "cell_type": "markdown",
   "id": "a0454731",
   "metadata": {},
   "source": [
    "**Question 5.3.** Find all the movies with a rating higher than 8.5.  Put their\n",
    "data in a table called `really_highly_rated`."
   ]
  },
  {
   "cell_type": "code",
   "execution_count": null,
   "id": "0d2014c3",
   "metadata": {},
   "outputs": [],
   "source": [
    "really_highly_rated = ...\n",
    "really_highly_rated"
   ]
  },
  {
   "cell_type": "code",
   "execution_count": null,
   "id": "87e1f4d6",
   "metadata": {},
   "outputs": [],
   "source": [
    "_ = ok.grade('q5_3')"
   ]
  },
  {
   "cell_type": "markdown",
   "id": "ad124029",
   "metadata": {},
   "source": [
    "**Question 5.4.** Find the average rating for movies released in the 20th century and the average rating for movies released in the 21st century for the movies in `imdb`.\n",
    "\n",
    "*Hint*: Think of the steps you need to do (take the average, find the ratings, find movies released in 20th/21st centuries), and try to put them in an order that makes sense."
   ]
  },
  {
   "cell_type": "code",
   "execution_count": null,
   "id": "b8daa99d",
   "metadata": {},
   "outputs": [],
   "source": [
    "average_20th_century_rating = ...\n",
    "average_21st_century_rating = ...\n",
    "print(\"Average 20th century rating:\", average_20th_century_rating)\n",
    "print(\"Average 21st century rating:\", average_21st_century_rating)"
   ]
  },
  {
   "cell_type": "code",
   "execution_count": null,
   "id": "d6226f29",
   "metadata": {},
   "outputs": [],
   "source": [
    "_ = ok.grade('q5_4')"
   ]
  },
  {
   "cell_type": "markdown",
   "id": "4b6d372f",
   "metadata": {},
   "source": [
    "The function `len` tells you how many rows are in a data frame."
   ]
  },
  {
   "cell_type": "code",
   "execution_count": null,
   "id": "3fceab98",
   "metadata": {},
   "outputs": [],
   "source": [
    "num_movies_in_dataset = len(imdb)\n",
    "num_movies_in_dataset"
   ]
  },
  {
   "cell_type": "markdown",
   "id": "ad2cfaf2",
   "metadata": {},
   "source": [
    "**Question 5.5.** Use `len` (and arithmetic) to find the *proportion* of movies\n",
    "in the dataset that were released in the 20th century, and the proportion from\n",
    "the 21st century.\n",
    "\n",
    "*Hint:* The *proportion* of movies released in the 20th century is the *number*\n",
    "of movies released in the 20th century, divided by the *total number* of\n",
    "movies."
   ]
  },
  {
   "cell_type": "code",
   "execution_count": null,
   "id": "723c7af3",
   "metadata": {},
   "outputs": [],
   "source": [
    "proportion_in_20th_century = ...\n",
    "proportion_in_21st_century = ...\n",
    "print(\"Proportion in 20th century:\", proportion_in_20th_century)\n",
    "print(\"Proportion in 21st century:\", proportion_in_21st_century)"
   ]
  },
  {
   "cell_type": "code",
   "execution_count": null,
   "id": "0c1f0d23",
   "metadata": {},
   "outputs": [],
   "source": [
    "_ = ok.grade('q5_5')"
   ]
  },
  {
   "cell_type": "markdown",
   "id": "e6ac9190",
   "metadata": {},
   "source": [
    "## Done\n",
    "\n",
    "You're finished with the assignment!  Be sure to...\n",
    "\n",
    "- **run all the tests** (the next cell has a shortcut for that), \n",
    "- **Save and Checkpoint** from the `File` menu,"
   ]
  },
  {
   "cell_type": "code",
   "execution_count": null,
   "id": "093b75ed",
   "metadata": {},
   "outputs": [],
   "source": [
    "# For your convenience, you can run this cell to run all the tests at once!\n",
    "import os\n",
    "_ = [ok.grade(q[:-3]) for q in os.listdir(\"tests\") if q.startswith('q')]"
   ]
  }
 ],
 "metadata": {
  "jupytext": {
   "notebook_metadata_filter": "language_info",
   "text_representation": {
    "extension": ".Rmd",
    "format_name": "rmarkdown",
    "format_version": "1.0",
    "jupytext_version": "0.8.4"
   }
  },
  "kernelspec": {
   "display_name": "Python 3",
   "language": "python",
   "name": "python3"
  },
  "language_info": {
   "codemirror_mode": {
    "name": "ipython",
    "version": 3
   },
   "file_extension": ".py",
   "mimetype": "text/x-python",
   "name": "python",
   "nbconvert_exporter": "python",
   "pygments_lexer": "ipython3",
   "version": "3.7.0"
  }
 },
 "nbformat": 4,
 "nbformat_minor": 5
}
